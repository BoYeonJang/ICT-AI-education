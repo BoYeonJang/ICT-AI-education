{
  "nbformat": 4,
  "nbformat_minor": 0,
  "metadata": {
    "colab": {
      "name": "13 리스트.ipynb",
      "provenance": [],
      "collapsed_sections": [],
      "authorship_tag": "ABX9TyNMlfytJTWpCXlHYWz2Vg0T",
      "include_colab_link": true
    },
    "kernelspec": {
      "name": "python3",
      "display_name": "Python 3"
    },
    "language_info": {
      "name": "python"
    }
  },
  "cells": [
    {
      "cell_type": "markdown",
      "metadata": {
        "id": "view-in-github",
        "colab_type": "text"
      },
      "source": [
        "<a href=\"https://colab.research.google.com/github/BoYeonJang/ICT-AI-education/blob/main/(8%EC%9B%94%204%EC%9D%BC)%20%EC%89%BD%EA%B2%8C%20%EC%84%A4%EB%AA%85%ED%95%98%EB%8A%94%20%EB%94%A5%EB%9F%AC%EB%8B%9D/13_%EB%A6%AC%EC%8A%A4%ED%8A%B8.ipynb\" target=\"_parent\"><img src=\"https://colab.research.google.com/assets/colab-badge.svg\" alt=\"Open In Colab\"/></a>"
      ]
    },
    {
      "cell_type": "code",
      "execution_count": 17,
      "metadata": {
        "colab": {
          "base_uri": "https://localhost:8080/"
        },
        "id": "WQOSs_9y5HUz",
        "outputId": "aed548f4-98ef-4f41-8f18-8f35a487d99a"
      },
      "outputs": [
        {
          "name": "stdout",
          "output_type": "stream",
          "text": [
            "마음에 드는 옷을 찾았나요? (예/아니오로 대답하시오.)예\n"
          ]
        }
      ],
      "source": [
        "flag = input(\"마음에 드는 옷을 찾았나요? (예/아니오로 대답하시오.)\")"
      ]
    },
    {
      "cell_type": "markdown",
      "source": [
        ""
      ],
      "metadata": {
        "id": "VEFHWpDr5vkJ"
      }
    },
    {
      "cell_type": "code",
      "source": [
        "flag = input(\"마음에 드는 옷을 찾았나요? (예/아니오로 대답하시오.)\")\n",
        "\n",
        "if flag == \"예\":\n",
        "  print(\"축하합니다.\")\n",
        "\n",
        "else:\n",
        "  print(\"아쉽군요.\")"
      ],
      "metadata": {
        "colab": {
          "base_uri": "https://localhost:8080/"
        },
        "id": "h-XMFhWb5QnF",
        "outputId": "96957584-cc33-4b8f-8ff6-90cdd54134d2"
      },
      "execution_count": 18,
      "outputs": [
        {
          "output_type": "stream",
          "name": "stdout",
          "text": [
            "마음에 드는 옷을 찾았나요? (예/아니오로 대답하시오.)예\n",
            "축하합니다.\n"
          ]
        }
      ]
    },
    {
      "cell_type": "code",
      "source": [
        "repeat = True\n",
        "\n",
        "flag = input(\"마음에 드는 옷을 찾았나요? (예/아니오로 대답하시오.)\")\n",
        "\n",
        "if flag == \"예\":\n",
        "  print(\"축하합니다.\")\n",
        "  repeat = False\n",
        "\n",
        "else:\n",
        "  print(\"아쉽군요.\")\n",
        "  print(\"다른 매장에서 골라보세요.\")"
      ],
      "metadata": {
        "colab": {
          "base_uri": "https://localhost:8080/"
        },
        "id": "T2_DVJop5hKk",
        "outputId": "9c433b04-0ff9-4c04-a638-1df8e032efc3"
      },
      "execution_count": 19,
      "outputs": [
        {
          "output_type": "stream",
          "name": "stdout",
          "text": [
            "마음에 드는 옷을 찾았나요? (예/아니오로 대답하시오.)아니오\n",
            "아쉽군요.\n",
            "다른 매장에서 골라보세요.\n"
          ]
        }
      ]
    },
    {
      "cell_type": "code",
      "source": [
        "cards = [3,1,5,2]"
      ],
      "metadata": {
        "id": "kpu-pnDL552X"
      },
      "execution_count": 20,
      "outputs": []
    },
    {
      "cell_type": "code",
      "source": [
        "cards[0]"
      ],
      "metadata": {
        "colab": {
          "base_uri": "https://localhost:8080/"
        },
        "id": "rwwCxOG06AHl",
        "outputId": "6b6b0ff9-5e67-4601-8544-4afd3a3369cb"
      },
      "execution_count": 21,
      "outputs": [
        {
          "output_type": "execute_result",
          "data": {
            "text/plain": [
              "3"
            ]
          },
          "metadata": {},
          "execution_count": 21
        }
      ]
    },
    {
      "cell_type": "code",
      "source": [
        "cards[-1]"
      ],
      "metadata": {
        "colab": {
          "base_uri": "https://localhost:8080/"
        },
        "id": "RAAJBh7x6BPe",
        "outputId": "17d42a29-eb98-42b7-8f2c-19aee46157ca"
      },
      "execution_count": 22,
      "outputs": [
        {
          "output_type": "execute_result",
          "data": {
            "text/plain": [
              "2"
            ]
          },
          "metadata": {},
          "execution_count": 22
        }
      ]
    },
    {
      "cell_type": "code",
      "source": [
        "for i in range(4):\n",
        "  print(i, end = ' ')"
      ],
      "metadata": {
        "colab": {
          "base_uri": "https://localhost:8080/"
        },
        "id": "g-ED0nra6FJR",
        "outputId": "ac74d04e-87f6-492c-afcd-d317eb9633b0"
      },
      "execution_count": 23,
      "outputs": [
        {
          "output_type": "stream",
          "name": "stdout",
          "text": [
            "0 1 2 3 "
          ]
        }
      ]
    },
    {
      "cell_type": "code",
      "source": [
        "list = [0,1,2,3]\n",
        "\n",
        "for i in list:\n",
        "  print(i)"
      ],
      "metadata": {
        "colab": {
          "base_uri": "https://localhost:8080/"
        },
        "id": "FLFt9bPu6Q9L",
        "outputId": "91e83a1a-8ea4-4327-e7d4-9f5da814ae7d"
      },
      "execution_count": 24,
      "outputs": [
        {
          "output_type": "stream",
          "name": "stdout",
          "text": [
            "0\n",
            "1\n",
            "2\n",
            "3\n"
          ]
        }
      ]
    },
    {
      "cell_type": "code",
      "source": [
        "colors = [0,1,2,3]\n",
        "\n",
        "for color in colors:\n",
        "  print(color)"
      ],
      "metadata": {
        "colab": {
          "base_uri": "https://localhost:8080/"
        },
        "id": "bMcNhViU6VXh",
        "outputId": "900dbe5c-7d76-404a-bd8d-34ce78f33879"
      },
      "execution_count": 25,
      "outputs": [
        {
          "output_type": "stream",
          "name": "stdout",
          "text": [
            "0\n",
            "1\n",
            "2\n",
            "3\n"
          ]
        }
      ]
    },
    {
      "cell_type": "code",
      "source": [
        "colors = ['black','blue','yellow','red']\n",
        "\n",
        "for i in colors:\n",
        "  print(i)"
      ],
      "metadata": {
        "colab": {
          "base_uri": "https://localhost:8080/"
        },
        "id": "TqrjsLWF6cl0",
        "outputId": "42b5b290-9582-41de-f14a-fc77d6f7bdc3"
      },
      "execution_count": 26,
      "outputs": [
        {
          "output_type": "stream",
          "name": "stdout",
          "text": [
            "black\n",
            "blue\n",
            "yellow\n",
            "red\n"
          ]
        }
      ]
    },
    {
      "cell_type": "code",
      "source": [
        "colors = ['black','blue','yellow','red']\n",
        "\n",
        "for i in colors:\n",
        "  print(i, len(i))"
      ],
      "metadata": {
        "colab": {
          "base_uri": "https://localhost:8080/"
        },
        "id": "QOIcbBDJ6rUT",
        "outputId": "84ec70da-b85b-4f40-d037-b14c528c8b63"
      },
      "execution_count": 27,
      "outputs": [
        {
          "output_type": "stream",
          "name": "stdout",
          "text": [
            "black 5\n",
            "blue 4\n",
            "yellow 6\n",
            "red 3\n"
          ]
        }
      ]
    },
    {
      "cell_type": "code",
      "source": [
        "colors = ['black','blue','yellow','red']\n",
        "\n",
        "for color in colors:\n",
        "  print(color, len(color))"
      ],
      "metadata": {
        "colab": {
          "base_uri": "https://localhost:8080/"
        },
        "id": "8nXvQ8RR6wVA",
        "outputId": "f34d4b7c-d7f5-45ab-9bfa-8277ab2e39a7"
      },
      "execution_count": 28,
      "outputs": [
        {
          "output_type": "stream",
          "name": "stdout",
          "text": [
            "black 5\n",
            "blue 4\n",
            "yellow 6\n",
            "red 3\n"
          ]
        }
      ]
    },
    {
      "cell_type": "markdown",
      "source": [
        "### 리스트를 각 원소별로 인덱스를 이용해서 탐색하시오."
      ],
      "metadata": {
        "id": "Qb2yqUFZ65iR"
      }
    },
    {
      "cell_type": "code",
      "source": [
        "nn = [100,200,300,400,500]"
      ],
      "metadata": {
        "id": "6WAgfx_c60I-"
      },
      "execution_count": 29,
      "outputs": []
    },
    {
      "cell_type": "code",
      "source": [
        "for n in nn:\n",
        "  print(n)"
      ],
      "metadata": {
        "colab": {
          "base_uri": "https://localhost:8080/"
        },
        "id": "8KOaxd7U6-qS",
        "outputId": "55cad170-f344-430a-9bfe-a41410d0e066"
      },
      "execution_count": 30,
      "outputs": [
        {
          "output_type": "stream",
          "name": "stdout",
          "text": [
            "100\n",
            "200\n",
            "300\n",
            "400\n",
            "500\n"
          ]
        }
      ]
    }
  ]
}