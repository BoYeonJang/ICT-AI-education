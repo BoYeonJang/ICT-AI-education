{
  "cells": [
    {
      "cell_type": "markdown",
      "metadata": {
        "id": "view-in-github",
        "colab_type": "text"
      },
      "source": [
        "<a href=\"https://colab.research.google.com/github/BoYeonJang/ICT-AI-education/blob/main/(8%EC%9B%94%2017%EC%9D%BC)%20%EB%94%A5%EB%9F%AC%EB%8B%9D%EC%9D%98%20%EB%93%B1%EC%9E%A5%EB%B0%B0%EA%B2%BD%20%EB%B0%8F%20%ED%99%9C%EC%9A%A9%20%EC%82%AC%EB%A1%80/1.%20keras%20vanila%2002.ipynb\" target=\"_parent\"><img src=\"https://colab.research.google.com/assets/colab-badge.svg\" alt=\"Open In Colab\"/></a>"
      ]
    },
    {
      "cell_type": "code",
      "execution_count": 1,
      "metadata": {
        "id": "kSvXta_drs_a"
      },
      "outputs": [],
      "source": [
        "from sklearn.linear_model import LinearRegression\n",
        "\n",
        "#X = [[0.0], [1.0], [2.0], [3.0], [4.0], [5.0], [6.0], [7.0]]\n",
        "#Y = [[1.0], [3.0], [5.0], [7.0], [9.0], [11.0], [13.0], [15.0]]\n",
        "X = [[0.0], [1.0], [2.0], [3.0], [4.0], [5.0]]\n",
        "Y = [[1.0], [3.0], [5.0], [7.0], [9.0], [11.0]]"
      ]
    },
    {
      "cell_type": "code",
      "execution_count": 2,
      "metadata": {
        "id": "-Gr0s2unrs_b",
        "outputId": "344b894c-c76a-4634-af4b-aa252eaa7532",
        "colab": {
          "base_uri": "https://localhost:8080/"
        }
      },
      "outputs": [
        {
          "output_type": "stream",
          "name": "stdout",
          "text": [
            "Variable           Type       Data/Info\n",
            "---------------------------------------\n",
            "LinearRegression   ABCMeta    <class 'sklearn.linear_mo<...>._base.LinearRegression'>\n",
            "X                  list       n=6\n",
            "Y                  list       n=6\n"
          ]
        }
      ],
      "source": [
        "%whos"
      ]
    },
    {
      "cell_type": "code",
      "execution_count": 3,
      "metadata": {
        "id": "4GU4ahqSrs_c",
        "outputId": "7eb60e18-f625-42d6-c099-24de2d3c5b2b",
        "colab": {
          "base_uri": "https://localhost:8080/"
        }
      },
      "outputs": [
        {
          "output_type": "execute_result",
          "data": {
            "text/plain": [
              "[[0.0], [1.0], [2.0], [3.0], [4.0], [5.0]]"
            ]
          },
          "metadata": {},
          "execution_count": 3
        }
      ],
      "source": [
        "X"
      ]
    },
    {
      "cell_type": "code",
      "execution_count": 4,
      "metadata": {
        "id": "jB6C59ovrs_c",
        "outputId": "2442add9-7fa8-4fd1-be23-cdb02ff562f9",
        "colab": {
          "base_uri": "https://localhost:8080/"
        }
      },
      "outputs": [
        {
          "output_type": "execute_result",
          "data": {
            "text/plain": [
              "[[1.0], [3.0], [5.0], [7.0], [9.0], [11.0]]"
            ]
          },
          "metadata": {},
          "execution_count": 4
        }
      ],
      "source": [
        "Y"
      ]
    },
    {
      "cell_type": "code",
      "execution_count": 5,
      "metadata": {
        "id": "Fj2D4ETOrs_c"
      },
      "outputs": [],
      "source": [
        "# 선형회귀 모델 생성 및 학습\n",
        "model = LinearRegression()"
      ]
    },
    {
      "cell_type": "code",
      "execution_count": 6,
      "metadata": {
        "id": "QjsCOSG-rs_d",
        "outputId": "63544cb9-7355-46ea-af42-3bfc67ced18f",
        "colab": {
          "base_uri": "https://localhost:8080/"
        }
      },
      "outputs": [
        {
          "output_type": "execute_result",
          "data": {
            "text/plain": [
              "LinearRegression()"
            ]
          },
          "metadata": {},
          "execution_count": 6
        }
      ],
      "source": [
        "model.fit(X, Y)"
      ]
    },
    {
      "cell_type": "code",
      "execution_count": 7,
      "metadata": {
        "id": "sPj3GtZ0rs_d",
        "outputId": "0cf92371-8c55-4869-f7fa-def2853e10d7",
        "colab": {
          "base_uri": "https://localhost:8080/"
        }
      },
      "outputs": [
        {
          "output_type": "stream",
          "name": "stdout",
          "text": [
            "[[2.]]\n"
          ]
        }
      ],
      "source": [
        "print(model.coef_)      # 기울기 출력"
      ]
    },
    {
      "cell_type": "code",
      "execution_count": 8,
      "metadata": {
        "id": "bJImODSprs_d",
        "outputId": "595c669c-faa4-43bf-f2be-dadf57b55511",
        "colab": {
          "base_uri": "https://localhost:8080/"
        }
      },
      "outputs": [
        {
          "output_type": "stream",
          "name": "stdout",
          "text": [
            "[1.]\n"
          ]
        }
      ],
      "source": [
        "print(model.intercept_) # 절편 출력"
      ]
    },
    {
      "cell_type": "code",
      "execution_count": 9,
      "metadata": {
        "id": "GWpVOeQFrs_d"
      },
      "outputs": [],
      "source": [
        "# x = 0, x = 1일 때 모델의 출력 결과 예측\n",
        "y_pred = model.predict([[6.0], [7.0]])"
      ]
    },
    {
      "cell_type": "code",
      "execution_count": 10,
      "metadata": {
        "id": "NeEXpfTbrs_e",
        "outputId": "4e59d121-05df-4f7f-cf31-5cf89d89d7f7",
        "colab": {
          "base_uri": "https://localhost:8080/"
        }
      },
      "outputs": [
        {
          "output_type": "stream",
          "name": "stdout",
          "text": [
            "[[13.]\n",
            " [15.]]\n"
          ]
        }
      ],
      "source": [
        "# x = 0, x = 1일 때 예측한 y값 출력\n",
        "print(y_pred)"
      ]
    },
    {
      "cell_type": "code",
      "source": [
        ""
      ],
      "metadata": {
        "id": "1rhDN2W1OU_4"
      },
      "execution_count": null,
      "outputs": []
    }
  ],
  "metadata": {
    "kernelspec": {
      "display_name": "Python 3",
      "language": "python",
      "name": "python3"
    },
    "language_info": {
      "codemirror_mode": {
        "name": "ipython",
        "version": 3
      },
      "file_extension": ".py",
      "mimetype": "text/x-python",
      "name": "python",
      "nbconvert_exporter": "python",
      "pygments_lexer": "ipython3",
      "version": "3.8.8"
    },
    "colab": {
      "name": "1.keras_vanila_02.ipynb",
      "provenance": [],
      "collapsed_sections": [],
      "include_colab_link": true
    },
    "accelerator": "GPU",
    "gpuClass": "standard"
  },
  "nbformat": 4,
  "nbformat_minor": 0
}