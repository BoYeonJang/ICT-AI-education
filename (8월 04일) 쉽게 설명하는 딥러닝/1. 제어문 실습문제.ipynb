{
  "nbformat": 4,
  "nbformat_minor": 0,
  "metadata": {
    "colab": {
      "name": "12주차 제어문 실습문제.ipynb",
      "provenance": [],
      "authorship_tag": "ABX9TyO9e1jXK0qQh789sVY/BBvH",
      "include_colab_link": true
    },
    "kernelspec": {
      "name": "python3",
      "display_name": "Python 3"
    },
    "language_info": {
      "name": "python"
    }
  },
  "cells": [
    {
      "cell_type": "markdown",
      "metadata": {
        "id": "view-in-github",
        "colab_type": "text"
      },
      "source": [
        "<a href=\"https://colab.research.google.com/github/BoYeonJang/ICT-AI-education/blob/main/(8%EC%9B%94%204%EC%9D%BC)%20%EC%89%BD%EA%B2%8C%20%EC%84%A4%EB%AA%85%ED%95%98%EB%8A%94%20%EB%94%A5%EB%9F%AC%EB%8B%9D/12%EC%A3%BC%EC%B0%A8_%EC%A0%9C%EC%96%B4%EB%AC%B8_%EC%8B%A4%EC%8A%B5%EB%AC%B8%EC%A0%9C.ipynb\" target=\"_parent\"><img src=\"https://colab.research.google.com/assets/colab-badge.svg\" alt=\"Open In Colab\"/></a>"
      ]
    },
    {
      "cell_type": "code",
      "execution_count": 1,
      "metadata": {
        "colab": {
          "base_uri": "https://localhost:8080/"
        },
        "id": "yD9SiRel3Ayk",
        "outputId": "e638faf6-19c5-4837-f24e-3d70409a2640"
      },
      "outputs": [
        {
          "output_type": "stream",
          "name": "stdout",
          "text": [
            "0여기를 반복\n",
            "1여기를 반복\n",
            "2여기를 반복\n",
            "3여기를 반복\n",
            "4여기를 반복\n",
            "5여기를 반복\n",
            "6여기를 반복\n",
            "7여기를 반복\n",
            "8여기를 반복\n",
            "9여기를 반복\n"
          ]
        }
      ],
      "source": [
        "for i in range(10):\n",
        "  print(str(i) + \"\" + \"여기를 반복\")"
      ]
    },
    {
      "cell_type": "markdown",
      "source": [
        "### int float str"
      ],
      "metadata": {
        "id": "fq_4nxaV32sl"
      }
    },
    {
      "cell_type": "code",
      "source": [
        "for i in range(1, 10):\n",
        "  print(str(i) + \"\" + \"여기를 반복\")"
      ],
      "metadata": {
        "colab": {
          "base_uri": "https://localhost:8080/"
        },
        "id": "jHEGVRVG3tfF",
        "outputId": "6abe4923-1cb7-4fe7-cf54-59c2e5d73452"
      },
      "execution_count": 3,
      "outputs": [
        {
          "output_type": "stream",
          "name": "stdout",
          "text": [
            "1여기를 반복\n",
            "2여기를 반복\n",
            "3여기를 반복\n",
            "4여기를 반복\n",
            "5여기를 반복\n",
            "6여기를 반복\n",
            "7여기를 반복\n",
            "8여기를 반복\n",
            "9여기를 반복\n"
          ]
        }
      ]
    },
    {
      "cell_type": "code",
      "source": [
        "for i in range(3, 10, 3):\n",
        "  print(str(i) + \"\" + \"여기를 반복\")"
      ],
      "metadata": {
        "colab": {
          "base_uri": "https://localhost:8080/"
        },
        "id": "sY5Py1VO3tcX",
        "outputId": "45fcf4f7-c2e6-459b-be4c-9f0065e4d294"
      },
      "execution_count": 4,
      "outputs": [
        {
          "output_type": "stream",
          "name": "stdout",
          "text": [
            "3여기를 반복\n",
            "6여기를 반복\n",
            "9여기를 반복\n"
          ]
        }
      ]
    },
    {
      "cell_type": "code",
      "source": [
        "for i in range(1, 11, 1):\n",
        "  hap += i\n",
        "print(hap)"
      ],
      "metadata": {
        "colab": {
          "base_uri": "https://localhost:8080/",
          "height": 205
        },
        "id": "nQqicmjl3tQn",
        "outputId": "0d436a57-abd2-4a33-cb74-fae280a35623"
      },
      "execution_count": 7,
      "outputs": [
        {
          "output_type": "error",
          "ename": "NameError",
          "evalue": "ignored",
          "traceback": [
            "\u001b[0;31m---------------------------------------------------------------------------\u001b[0m",
            "\u001b[0;31mNameError\u001b[0m                                 Traceback (most recent call last)",
            "\u001b[0;32m<ipython-input-7-a8957672127b>\u001b[0m in \u001b[0;36m<module>\u001b[0;34m()\u001b[0m\n\u001b[1;32m      1\u001b[0m \u001b[0;32mfor\u001b[0m \u001b[0mi\u001b[0m \u001b[0;32min\u001b[0m \u001b[0mrange\u001b[0m\u001b[0;34m(\u001b[0m\u001b[0;36m1\u001b[0m\u001b[0;34m,\u001b[0m \u001b[0;36m11\u001b[0m\u001b[0;34m,\u001b[0m \u001b[0;36m1\u001b[0m\u001b[0;34m)\u001b[0m\u001b[0;34m:\u001b[0m\u001b[0;34m\u001b[0m\u001b[0;34m\u001b[0m\u001b[0m\n\u001b[0;32m----> 2\u001b[0;31m   \u001b[0mhap\u001b[0m \u001b[0;34m+=\u001b[0m \u001b[0mi\u001b[0m\u001b[0;34m\u001b[0m\u001b[0;34m\u001b[0m\u001b[0m\n\u001b[0m\u001b[1;32m      3\u001b[0m \u001b[0mprint\u001b[0m\u001b[0;34m(\u001b[0m\u001b[0mhap\u001b[0m\u001b[0;34m)\u001b[0m\u001b[0;34m\u001b[0m\u001b[0;34m\u001b[0m\u001b[0m\n",
            "\u001b[0;31mNameError\u001b[0m: name 'hap' is not defined"
          ]
        }
      ]
    },
    {
      "cell_type": "code",
      "source": [
        "dan = 9\n",
        "for i in range(9, 0, -1):\n",
        "  print(\"%d X %d = %3d\" % (dan, i ,dan * i))"
      ],
      "metadata": {
        "colab": {
          "base_uri": "https://localhost:8080/"
        },
        "id": "4xp-f7VD3gEi",
        "outputId": "4955d9f7-d5f9-497a-d95f-9ec5ea5caeab"
      },
      "execution_count": 2,
      "outputs": [
        {
          "output_type": "stream",
          "name": "stdout",
          "text": [
            "9 X 9 =  81\n",
            "9 X 8 =  72\n",
            "9 X 7 =  63\n",
            "9 X 6 =  54\n",
            "9 X 5 =  45\n",
            "9 X 4 =  36\n",
            "9 X 3 =  27\n",
            "9 X 2 =  18\n",
            "9 X 1 =   9\n"
          ]
        }
      ]
    },
    {
      "cell_type": "code",
      "source": [
        "dan = 3\n",
        "for i in range(1, 10):\n",
        "  print(\"%d X %d = %3d\" % (dan, i ,dan * i))"
      ],
      "metadata": {
        "colab": {
          "base_uri": "https://localhost:8080/"
        },
        "id": "nhgNWQUk3sT6",
        "outputId": "208e631c-f1b0-4553-88ad-4f88edf09aca"
      },
      "execution_count": 8,
      "outputs": [
        {
          "output_type": "stream",
          "name": "stdout",
          "text": [
            "3 X 1 =   3\n",
            "3 X 2 =   6\n",
            "3 X 3 =   9\n",
            "3 X 4 =  12\n",
            "3 X 5 =  15\n",
            "3 X 6 =  18\n",
            "3 X 7 =  21\n",
            "3 X 8 =  24\n",
            "3 X 9 =  27\n"
          ]
        }
      ]
    },
    {
      "cell_type": "code",
      "source": [
        ""
      ],
      "metadata": {
        "id": "WAwIdgip4jBx"
      },
      "execution_count": null,
      "outputs": []
    }
  ]
}