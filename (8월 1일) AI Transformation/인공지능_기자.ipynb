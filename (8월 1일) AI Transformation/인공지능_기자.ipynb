{
  "nbformat": 4,
  "nbformat_minor": 0,
  "metadata": {
    "colab": {
      "name": "인공지능 기자.ipynb",
      "provenance": [],
      "collapsed_sections": [],
      "authorship_tag": "ABX9TyOuNRU4V6LvHYYUlwU2O7mB",
      "include_colab_link": true
    },
    "kernelspec": {
      "name": "python3",
      "display_name": "Python 3"
    },
    "language_info": {
      "name": "python"
    }
  },
  "cells": [
    {
      "cell_type": "markdown",
      "metadata": {
        "id": "view-in-github",
        "colab_type": "text"
      },
      "source": [
        "<a href=\"https://colab.research.google.com/github/BoYeonJang/ICT-AI-education/blob/main/(8%EC%9B%94%201%EC%9D%BC)%20AI%20Transformation/%EC%9D%B8%EA%B3%B5%EC%A7%80%EB%8A%A5_%EA%B8%B0%EC%9E%90.ipynb\" target=\"_parent\"><img src=\"https://colab.research.google.com/assets/colab-badge.svg\" alt=\"Open In Colab\"/></a>"
      ]
    },
    {
      "cell_type": "markdown",
      "source": [
        "# 인공지능 프로그래밍 / 인공지능 기자"
      ],
      "metadata": {
        "id": "6AmZD66EXcuA"
      }
    },
    {
      "cell_type": "code",
      "source": [
        "from datetime import datetime"
      ],
      "metadata": {
        "id": "tMQsZVasXqZE"
      },
      "execution_count": null,
      "outputs": []
    },
    {
      "cell_type": "code",
      "execution_count": null,
      "metadata": {
        "colab": {
          "base_uri": "https://localhost:8080/"
        },
        "id": "sBw8lQdAXbvG",
        "outputId": "77d9c543-e4ce-4734-b89c-188d13627f7e"
      },
      "outputs": [
        {
          "name": "stdout",
          "output_type": "stream",
          "text": [
            "경기가 열린 곳은? 런던 스타디움\n",
            "경기가 열린 시간은? 8월 6일 오후 7시\n",
            "상대 팀은? 맨체스터 유나이티드\n",
            "손흥민 선수는 몇 골을 넣었나요? 2\n",
            "도움은 몇 개인가요? 1\n",
            "손흥민 선수 팀이 넣은 골 수는? 4\n",
            "상대 팀이 넣은 골 수는? 2\n"
          ]
        }
      ],
      "source": [
        "place = input(\"경기가 열린 곳은? \")\n",
        "time = input(\"경기가 열린 시간은? \")\n",
        "opponent = input(\"상대 팀은? \")\n",
        "goals = input(\"손흥민 선수는 몇 골을 넣었나요? \")\n",
        "aids = input(\"도움은 몇 개인가요? \")\n",
        "score_me = input(\"손흥민 선수 팀이 넣은 골 수는? \")\n",
        "score_you = input(\"상대 팀이 넣은 골 수는? \")\n",
        "\n",
        "# 경기가 열린 곳은? 런던 스타디움\n",
        "# 경기가 열린 시간은? 8월 6일 오후 7시\n",
        "# 상대 팀은? 맨체스터 유나이티드\n",
        "# 손흥민 선수는 몇 골을 넣었나요? 2\n",
        "# 도움은 몇 개인가요? 1\n",
        "# 손흥민 선수 팀이 넣은 골 수는? 4\n",
        "# 상대 팀이 넣은 골 수는? 2"
      ]
    },
    {
      "cell_type": "code",
      "source": [
        "# 기사 작성하는 곳\n",
        "news=\"[프리미어 리그 속보(\"+str(datetime.now())+\")]\\n\"\n",
        "news=news+\"손흥민 선수는 \"+place+\"에서 \"+time+\"에 열린 경기에 출전하였습니다.\\n \"\n",
        "news=news+\"상대 팀은 \"+opponent+\"입니다. \"\n",
        "\n",
        "if score_me>score_you:\n",
        "    news=news+\"손흥민 선수의 팀이 \"+score_me+\"골을 넣어 \"+score_you+\"골을 넣은 상대 팀을 이겼습니다.\\n \"\n",
        "elif score_me<score_you:\n",
        "    news=news+\"손흥민 선수의 팀이 \"+score_me+\"골을 넣어 \"+score_you+\"골을 넣은 상대 팀에게 졌습니다.\\n \"\n",
        "else:\n",
        "    news=news+\"두 팀은 \"+score_me+\"대\"+score_you+\"로 비겼습니다.\\n \"\n",
        "\n",
        "if int(goals)>0 and int(aids)>0:\n",
        "    news=news+\"손흥민 선수는 \"+goals+\"골에 도움 \"+aids+\"개로 승리를 크게 이끌었습니다.\\n \"\n",
        "elif int(goals)>0 and int(aids)==0:\n",
        "    news=news+\"손흥민 선수는 \"+goals+\"골로 승리를 이끌었습니다.\\n \"\n",
        "elif int(goals)==0 and int(aids)>0:\n",
        "    news=news+\"손흥민 선수는 골은 없지만 도움 \"+aids+\"개로 승리하는 데 공헌하였습니다. \\n\"\n",
        "else:\n",
        "    news=news+\"아쉽게도 이번 경기에서 손홍민의 발끝은 침묵을 지켰습니다.\\n \""
      ],
      "metadata": {
        "id": "jgYEpx5ZX7Pd"
      },
      "execution_count": null,
      "outputs": []
    },
    {
      "cell_type": "code",
      "source": [
        "print(news)"
      ],
      "metadata": {
        "colab": {
          "base_uri": "https://localhost:8080/"
        },
        "id": "yQGvq0RsYJIT",
        "outputId": "ad6685ec-fcdd-4437-83bd-6817677bb693"
      },
      "execution_count": null,
      "outputs": [
        {
          "output_type": "stream",
          "name": "stdout",
          "text": [
            "[프리미어 리그 속보(2022-08-01 03:39:00.370017)]\n",
            "손흥민 선수는 런던 스타디움에서 8월 6일 오후 7시에 열린 경기에 출전하였습니다.\n",
            " 상대 팀은 맨체스터 유나이티드입니다. 손흥민 선수의 팀이 4골을 넣어 2골을 넣은 상대 팀을 이겼습니다.\n",
            " 손흥민 선수는 2골에 도움 1개로 승리를 크게 이끌었습니다.\n",
            " \n"
          ]
        }
      ]
    },
    {
      "cell_type": "markdown",
      "source": [
        "# 인공지능 프로그래밍 / 더 똑똑한 인공지능 기자"
      ],
      "metadata": {
        "id": "eqkfXs4rYdJC"
      }
    },
    {
      "cell_type": "code",
      "source": [
        "!pip install gtts playsound"
      ],
      "metadata": {
        "colab": {
          "base_uri": "https://localhost:8080/"
        },
        "id": "B11DbShEYO4j",
        "outputId": "70d9d474-b0e2-4449-a6dd-5f6144d19dae"
      },
      "execution_count": null,
      "outputs": [
        {
          "output_type": "stream",
          "name": "stdout",
          "text": [
            "Looking in indexes: https://pypi.org/simple, https://us-python.pkg.dev/colab-wheels/public/simple/\n",
            "Requirement already satisfied: gtts in /usr/local/lib/python3.7/dist-packages (2.2.4)\n",
            "Requirement already satisfied: playsound in /usr/local/lib/python3.7/dist-packages (1.3.0)\n",
            "Requirement already satisfied: requests in /usr/local/lib/python3.7/dist-packages (from gtts) (2.23.0)\n",
            "Requirement already satisfied: six in /usr/local/lib/python3.7/dist-packages (from gtts) (1.15.0)\n",
            "Requirement already satisfied: click in /usr/local/lib/python3.7/dist-packages (from gtts) (7.1.2)\n",
            "Requirement already satisfied: certifi>=2017.4.17 in /usr/local/lib/python3.7/dist-packages (from requests->gtts) (2022.6.15)\n",
            "Requirement already satisfied: urllib3!=1.25.0,!=1.25.1,<1.26,>=1.21.1 in /usr/local/lib/python3.7/dist-packages (from requests->gtts) (1.24.3)\n",
            "Requirement already satisfied: chardet<4,>=3.0.2 in /usr/local/lib/python3.7/dist-packages (from requests->gtts) (3.0.4)\n",
            "Requirement already satisfied: idna<3,>=2.5 in /usr/local/lib/python3.7/dist-packages (from requests->gtts) (2.10)\n"
          ]
        }
      ]
    },
    {
      "cell_type": "code",
      "source": [
        "from gtts import gTTS\n",
        "import playsound"
      ],
      "metadata": {
        "id": "WMAV-qOpYmgs"
      },
      "execution_count": null,
      "outputs": []
    },
    {
      "cell_type": "code",
      "source": [
        "tts=gTTS(text=news, lang='ko')\n",
        "tts.save(\"news_Son.mp3\")"
      ],
      "metadata": {
        "id": "NDYjUUuVYsWj"
      },
      "execution_count": null,
      "outputs": []
    },
    {
      "cell_type": "code",
      "source": [
        "import random"
      ],
      "metadata": {
        "id": "mnlU8BddY25I"
      },
      "execution_count": null,
      "outputs": []
    },
    {
      "cell_type": "code",
      "source": [
        "# 기사 작성하는 곳\n",
        "news=\"[프리미어 리그 속보(\"+str(datetime.now())+\")]\\n\"\n",
        "news=news+\"손흥민 선수는 \"+place+\"에서 \"+time+\"에 열린 경기에 출전하였습니다.\\n \"\n",
        "news=news+\"상대 팀은 \"+opponent+\"입니다. \"\n",
        "\n",
        "if score_me>score_you:\n",
        "    wording=[\"상대 팀을 이겼습니다.\\n\", \"상대를 대상으로 통쾌한 승리를 거머쥐었습니다.\\n\", \"상대 팀을 꺾었습니다.\\n\"]\n",
        "  # 수정\n",
        "    news=news+\"손흥민 선수의 팀이 \"+score_me+\"골을 넣어 \"+score_you+\"골을 넣은\" + random.choice(wording)\n",
        "elif score_me<score_you:\n",
        "    news=news+\"손흥민 선수의 팀이 \"+score_me+\"골을 넣어 \"+score_you+\"골을 넣은 상대 팀에게 졌습니다.\\n \"\n",
        "else:\n",
        "    news=news+\"두 팀은 \"+score_me+\"대\"+score_you+\"로 비겼습니다.\\n \"\n",
        "\n",
        "if int(goals)>0 and int(aids)>0:\n",
        "    news=news+\"손흥민 선수는 \"+goals+\"골에 도움 \"+aids+\"개로 승리를 크게 이끌었습니다.\\n \"\n",
        "elif int(goals)>0 and int(aids)==0:\n",
        "    news=news+\"손흥민 선수는 \"+goals+\"골로 승리를 이끌었습니다.\\n \"\n",
        "elif int(goals)==0 and int(aids)>0:\n",
        "    news=news+\"손흥민 선수는 골은 없지만 도움 \"+aids+\"개로 승리하는 데 공헌하였습니다.\\n \"\n",
        "else:\n",
        "    news=news+\"아쉽게도 이번 경기에서 손홍민의 발끝은 침묵을 지켰습니다.\\n \""
      ],
      "metadata": {
        "id": "AqOfOnRCaLnU"
      },
      "execution_count": null,
      "outputs": []
    },
    {
      "cell_type": "code",
      "source": [
        "print(news)"
      ],
      "metadata": {
        "colab": {
          "base_uri": "https://localhost:8080/"
        },
        "id": "z5qY7ooDadUu",
        "outputId": "80f34451-3e39-41f1-9ded-5bbe576c6171"
      },
      "execution_count": null,
      "outputs": [
        {
          "output_type": "stream",
          "name": "stdout",
          "text": [
            "[프리미어 리그 속보(2022-08-01 03:39:04.729675)]\n",
            "손흥민 선수는 런던 스타디움에서 8월 6일 오후 7시에 열린 경기에 출전하였습니다.\n",
            " 상대 팀은 맨체스터 유나이티드입니다. 손흥민 선수의 팀이 4골을 넣어 2골을 넣은상대를 대상으로 통쾌한 승리를 거머쥐었습니다.\n",
            "손흥민 선수는 2골에 도움 1개로 승리를 크게 이끌었습니다.\n",
            " \n"
          ]
        }
      ]
    }
  ]
}