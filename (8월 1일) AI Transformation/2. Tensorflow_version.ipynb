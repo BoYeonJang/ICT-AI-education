{
  "nbformat": 4,
  "nbformat_minor": 0,
  "metadata": {
    "colab": {
      "name": "Tensorflow_version.ipynb",
      "provenance": [],
      "collapsed_sections": [],
      "authorship_tag": "ABX9TyPtCcc8508PNtjT7Rv0a/02",
      "include_colab_link": true
    },
    "kernelspec": {
      "name": "python3",
      "display_name": "Python 3"
    },
    "language_info": {
      "name": "python"
    }
  },
  "cells": [
    {
      "cell_type": "markdown",
      "metadata": {
        "id": "view-in-github",
        "colab_type": "text"
      },
      "source": [
        "<a href=\"https://colab.research.google.com/github/BoYeonJang/ICT-AI-education/blob/main/(8%EC%9B%94%201%EC%9D%BC)%20AI%20Transformation/Tensorflow_version.ipynb\" target=\"_parent\"><img src=\"https://colab.research.google.com/assets/colab-badge.svg\" alt=\"Open In Colab\"/></a>"
      ]
    },
    {
      "cell_type": "markdown",
      "source": [
        "# 텐서플로우"
      ],
      "metadata": {
        "id": "mkJflHF28cQ6"
      }
    },
    {
      "cell_type": "code",
      "execution_count": null,
      "metadata": {
        "id": "bus_WuEa0uTW"
      },
      "outputs": [],
      "source": [
        "import tensorflow as tf"
      ]
    },
    {
      "cell_type": "code",
      "source": [
        "print(tf.__version__)"
      ],
      "metadata": {
        "colab": {
          "base_uri": "https://localhost:8080/"
        },
        "id": "h3cNJrOu1bsy",
        "outputId": "4e8b8764-7755-4011-d1f3-1881766b3198"
      },
      "execution_count": null,
      "outputs": [
        {
          "output_type": "stream",
          "name": "stdout",
          "text": [
            "2.8.2\n"
          ]
        }
      ]
    },
    {
      "cell_type": "code",
      "source": [
        "a = tf.random.uniform([2,3], 0, 1)\n",
        "print(a)"
      ],
      "metadata": {
        "colab": {
          "base_uri": "https://localhost:8080/"
        },
        "id": "MA7iJf9E1fug",
        "outputId": "bfc2b36f-ca84-489e-f9fa-27deaa2b6494"
      },
      "execution_count": null,
      "outputs": [
        {
          "output_type": "stream",
          "name": "stdout",
          "text": [
            "tf.Tensor(\n",
            "[[0.23853803 0.04563046 0.35878062]\n",
            " [0.73725903 0.89353347 0.7993355 ]], shape=(2, 3), dtype=float32)\n"
          ]
        }
      ]
    },
    {
      "cell_type": "code",
      "source": [
        "print(type(a))"
      ],
      "metadata": {
        "colab": {
          "base_uri": "https://localhost:8080/"
        },
        "id": "ipWBQvqh2zBs",
        "outputId": "c416cff7-3613-4a37-f480-0a0eed4d02f9"
      },
      "execution_count": null,
      "outputs": [
        {
          "output_type": "stream",
          "name": "stdout",
          "text": [
            "<class 'tensorflow.python.framework.ops.EagerTensor'>\n"
          ]
        }
      ]
    },
    {
      "cell_type": "markdown",
      "source": [
        "# 머신러닝과 딥러닝 차이"
      ],
      "metadata": {
        "id": "0FEj8EHJ7VlT"
      }
    },
    {
      "cell_type": "markdown",
      "source": [
        "## 일반 프로그램"
      ],
      "metadata": {
        "id": "vPSZ6-wt7W0U"
      }
    },
    {
      "cell_type": "code",
      "source": [
        "# 일반 프로그램\n",
        "def cal(x):\n",
        "  return 3*x + 1\n",
        "# x = 1, return = 4\n",
        "# 화면에서 입력값을 받는다. x=8을 이력\n",
        "x = int(input())\n",
        "print(cal(x))"
      ],
      "metadata": {
        "colab": {
          "base_uri": "https://localhost:8080/"
        },
        "id": "oGY2XCXK21_3",
        "outputId": "0ee7eff5-f8f6-40f9-cdf5-c54263532851"
      },
      "execution_count": null,
      "outputs": [
        {
          "output_type": "stream",
          "name": "stdout",
          "text": [
            "7\n",
            "22\n"
          ]
        }
      ]
    },
    {
      "cell_type": "markdown",
      "source": [
        "## 머신러닝"
      ],
      "metadata": {
        "id": "uDzRrxMs7sX0"
      }
    },
    {
      "cell_type": "code",
      "source": [
        "# 머신러닝\n",
        "# 필요 패키지를 정의\n",
        "import sklearn\n",
        "from sklearn import linear_model\n",
        "import numpy as np\n",
        "# 학습 데이터\n",
        "x_train = np.array([1.0, 2.0, 3.0, 4.0, 5.0, 6.0, 7.0], dtype=float).reshape(-1,1)\n",
        "y_train = np.array([4.0, 7.0, 10.0, 13.0, 16.0, 19.0, 22.0], dtype=float)\n",
        "# 알고리즘 = LinearRegression (선형회귀)\n",
        "model = sklearn.linear_model.LinearRegression()\n",
        "# 실제 학습 \n",
        "model.fit(x_train, y_train)\n",
        "# 학습된 모델에 실제 입력값을 주고 예측하게 함 \n",
        "print(model.predict([[8.0]]))"
      ],
      "metadata": {
        "colab": {
          "base_uri": "https://localhost:8080/"
        },
        "id": "BzrwNgec7m_W",
        "outputId": "39825ea0-83f6-4263-d8b9-32a1b5a20d14"
      },
      "execution_count": null,
      "outputs": [
        {
          "output_type": "stream",
          "name": "stdout",
          "text": [
            "[25.]\n"
          ]
        }
      ]
    },
    {
      "cell_type": "markdown",
      "source": [
        "## 딥러닝"
      ],
      "metadata": {
        "id": "Gf80OtSf8H9E"
      }
    },
    {
      "cell_type": "code",
      "source": [
        "# 딥러닝\n",
        "# 필요 패키지를 정의 \n",
        "import numpy as np\n",
        "import tensorflow\n",
        "from tensorflow import keras\n",
        "from tensorflow.keras.models import Sequential\n",
        "from tensorflow.keras.layers import Dense\n",
        "# 학습 데이터\n",
        "# 1일 때 4, 2일 때 7 이게 Feature engineering이다.\n",
        "x_train = np.array([1.0, 2.0, 3.0, 4.0, 5.0, 6.0, 7.0], dtype=float)\n",
        "y_train = np.array([4.0, 7.0, 10.0, 13.0, 16.0, 19.0, 22.0], dtype=float)\n",
        "# 알고리즘을 정의. 입력값이 1개, 출력값이 1개인 레이어)\n",
        "model = tensorflow.keras.models.Sequential([tensorflow.keras.layers.Dense(units=1, input_shape=(1,))])\n",
        "# 정의된 알고리즘을 학습하면서 필요한 사항을 정의) \n",
        "model.compile(optimizer='sgd', loss='mean_squared_error')\n",
        "# 실제 학습\n",
        "model.fit(x_train,y_train, epochs=10000, verbose=0)\n",
        "# 학습된 모델에 실제 입력값을 주고 예측하게 함\n",
        "# epochs=100은 100번 학습 했다는 뜻\n",
        "print(model.predict([8.0]))\n",
        "\n",
        "# epochs=100 결과 [[25.186852]]\n",
        "# epochs=1000 결과 [[25.001114]]\n",
        "# epochs=10000 결과 [[25.00001]]"
      ],
      "metadata": {
        "colab": {
          "base_uri": "https://localhost:8080/"
        },
        "id": "XctHxtXA8HAK",
        "outputId": "7e01de2b-45de-4786-90f2-048054a4d3d7"
      },
      "execution_count": null,
      "outputs": [
        {
          "output_type": "stream",
          "name": "stdout",
          "text": [
            "[[25.00001]]\n"
          ]
        }
      ]
    },
    {
      "cell_type": "code",
      "source": [
        ""
      ],
      "metadata": {
        "id": "tN-i7-Cv8rTM"
      },
      "execution_count": null,
      "outputs": []
    }
  ]
}