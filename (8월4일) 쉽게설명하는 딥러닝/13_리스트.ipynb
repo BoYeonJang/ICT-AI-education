{
  "nbformat": 4,
  "nbformat_minor": 0,
  "metadata": {
    "colab": {
      "name": "13 리스트.ipynb",
      "provenance": [],
      "collapsed_sections": [],
      "authorship_tag": "ABX9TyNicy/Qc/bQpbT+epCTH+mV",
      "include_colab_link": true
    },
    "kernelspec": {
      "name": "python3",
      "display_name": "Python 3"
    },
    "language_info": {
      "name": "python"
    }
  },
  "cells": [
    {
      "cell_type": "markdown",
      "metadata": {
        "id": "view-in-github",
        "colab_type": "text"
      },
      "source": [
        "<a href=\"https://colab.research.google.com/github/BoYeonJang/ICT-AI-education/blob/main/(8%EC%9B%944%EC%9D%BC)%20%EC%89%BD%EA%B2%8C%EC%84%A4%EB%AA%85%ED%95%98%EB%8A%94%20%EB%94%A5%EB%9F%AC%EB%8B%9D/13_%EB%A6%AC%EC%8A%A4%ED%8A%B8.ipynb\" target=\"_parent\"><img src=\"https://colab.research.google.com/assets/colab-badge.svg\" alt=\"Open In Colab\"/></a>"
      ]
    },
    {
      "cell_type": "code",
      "execution_count": 1,
      "metadata": {
        "colab": {
          "base_uri": "https://localhost:8080/"
        },
        "id": "WQOSs_9y5HUz",
        "outputId": "be1c9ec6-d536-4fad-deae-46d7f47d2be3"
      },
      "outputs": [
        {
          "name": "stdout",
          "output_type": "stream",
          "text": [
            "마음에 드는 옷을 찾았나요? (예/아니오로 대답하시오.)예\n"
          ]
        }
      ],
      "source": [
        "flag = input(\"마음에 드는 옷을 찾았나요? (예/아니오로 대답하시오.)\")"
      ]
    },
    {
      "cell_type": "markdown",
      "source": [
        ""
      ],
      "metadata": {
        "id": "VEFHWpDr5vkJ"
      }
    },
    {
      "cell_type": "code",
      "source": [
        "flag = input(\"마음에 드는 옷을 찾았나요? (예/아니오로 대답하시오.)\")\n",
        "\n",
        "if flag == \"예\":\n",
        "  print(\"축하합니다.\")\n",
        "\n",
        "else:\n",
        "  print(\"아쉽군요.\")"
      ],
      "metadata": {
        "colab": {
          "base_uri": "https://localhost:8080/"
        },
        "id": "h-XMFhWb5QnF",
        "outputId": "586c6841-65de-45fd-a3f2-2076a373f7d5"
      },
      "execution_count": 2,
      "outputs": [
        {
          "output_type": "stream",
          "name": "stdout",
          "text": [
            "마음에 드는 옷을 찾았나요? (예/아니오로 대답하시오.)예\n",
            "축하합니다.\n"
          ]
        }
      ]
    },
    {
      "cell_type": "code",
      "source": [
        "repeat = True\n",
        "\n",
        "flag = input(\"마음에 드는 옷을 찾았나요? (예/아니오로 대답하시오.)\")\n",
        "\n",
        "if flag == \"예\":\n",
        "  print(\"축하합니다.\")\n",
        "  repeat = False\n",
        "\n",
        "else:\n",
        "  print(\"아쉽군요.\")\n",
        "  print(\"다른 매장에서 골라보세요.\")"
      ],
      "metadata": {
        "colab": {
          "base_uri": "https://localhost:8080/"
        },
        "id": "T2_DVJop5hKk",
        "outputId": "e832b2c3-1723-4402-ed88-3254b9249696"
      },
      "execution_count": 4,
      "outputs": [
        {
          "output_type": "stream",
          "name": "stdout",
          "text": [
            "마음에 드는 옷을 찾았나요? (예/아니오로 대답하시오.)아니오\n",
            "아쉽군요.\n",
            "다른 매장에서 골라보세요.\n"
          ]
        }
      ]
    },
    {
      "cell_type": "code",
      "source": [
        "cards = [3,1,5,2]"
      ],
      "metadata": {
        "id": "kpu-pnDL552X"
      },
      "execution_count": 5,
      "outputs": []
    },
    {
      "cell_type": "code",
      "source": [
        "cards[0]"
      ],
      "metadata": {
        "colab": {
          "base_uri": "https://localhost:8080/"
        },
        "id": "rwwCxOG06AHl",
        "outputId": "3044f12a-b9d6-4df4-8ec3-57084fbfcd44"
      },
      "execution_count": 6,
      "outputs": [
        {
          "output_type": "execute_result",
          "data": {
            "text/plain": [
              "3"
            ]
          },
          "metadata": {},
          "execution_count": 6
        }
      ]
    },
    {
      "cell_type": "code",
      "source": [
        "cards[-1]"
      ],
      "metadata": {
        "colab": {
          "base_uri": "https://localhost:8080/"
        },
        "id": "RAAJBh7x6BPe",
        "outputId": "c23fd5e5-bb7a-49f4-e953-5c267bfc012e"
      },
      "execution_count": 7,
      "outputs": [
        {
          "output_type": "execute_result",
          "data": {
            "text/plain": [
              "2"
            ]
          },
          "metadata": {},
          "execution_count": 7
        }
      ]
    },
    {
      "cell_type": "code",
      "source": [
        "for i in range(4):\n",
        "  print(i, end = ' ')"
      ],
      "metadata": {
        "colab": {
          "base_uri": "https://localhost:8080/"
        },
        "id": "g-ED0nra6FJR",
        "outputId": "ebcc95a5-4e23-4cfd-a8de-731751b5085c"
      },
      "execution_count": 9,
      "outputs": [
        {
          "output_type": "stream",
          "name": "stdout",
          "text": [
            "0 1 2 3 "
          ]
        }
      ]
    },
    {
      "cell_type": "code",
      "source": [
        "list = [0,1,2,3]\n",
        "\n",
        "for i in list:\n",
        "  print(i)"
      ],
      "metadata": {
        "colab": {
          "base_uri": "https://localhost:8080/"
        },
        "id": "FLFt9bPu6Q9L",
        "outputId": "70566f59-2645-460e-d763-eeb812bd7b93"
      },
      "execution_count": 10,
      "outputs": [
        {
          "output_type": "stream",
          "name": "stdout",
          "text": [
            "0\n",
            "1\n",
            "2\n",
            "3\n"
          ]
        }
      ]
    },
    {
      "cell_type": "code",
      "source": [
        "colors = [0,1,2,3]\n",
        "\n",
        "for color in colors:\n",
        "  print(color)"
      ],
      "metadata": {
        "colab": {
          "base_uri": "https://localhost:8080/"
        },
        "id": "bMcNhViU6VXh",
        "outputId": "9eab429a-d00f-4b66-8da8-465857550861"
      },
      "execution_count": 11,
      "outputs": [
        {
          "output_type": "stream",
          "name": "stdout",
          "text": [
            "0\n",
            "1\n",
            "2\n",
            "3\n"
          ]
        }
      ]
    },
    {
      "cell_type": "code",
      "source": [
        "colors = ['black','blue','yellow','red']\n",
        "\n",
        "for i in colors:\n",
        "  print(i)"
      ],
      "metadata": {
        "colab": {
          "base_uri": "https://localhost:8080/"
        },
        "id": "TqrjsLWF6cl0",
        "outputId": "d8764fab-987d-4675-f637-ad8840c699a3"
      },
      "execution_count": 12,
      "outputs": [
        {
          "output_type": "stream",
          "name": "stdout",
          "text": [
            "black\n",
            "blue\n",
            "yellow\n",
            "red\n"
          ]
        }
      ]
    },
    {
      "cell_type": "code",
      "source": [
        "colors = ['black','blue','yellow','red']\n",
        "\n",
        "for i in colors:\n",
        "  print(i, len(i))"
      ],
      "metadata": {
        "colab": {
          "base_uri": "https://localhost:8080/"
        },
        "id": "QOIcbBDJ6rUT",
        "outputId": "1579ad5f-45ad-486f-938a-6ef8146e9dcc"
      },
      "execution_count": 13,
      "outputs": [
        {
          "output_type": "stream",
          "name": "stdout",
          "text": [
            "black 5\n",
            "blue 4\n",
            "yellow 6\n",
            "red 3\n"
          ]
        }
      ]
    },
    {
      "cell_type": "code",
      "source": [
        "colors = ['black','blue','yellow','red']\n",
        "\n",
        "for color in colors:\n",
        "  print(color, len(color))"
      ],
      "metadata": {
        "colab": {
          "base_uri": "https://localhost:8080/"
        },
        "id": "8nXvQ8RR6wVA",
        "outputId": "e6eef53f-05ed-4203-899e-00266ef5d64a"
      },
      "execution_count": 14,
      "outputs": [
        {
          "output_type": "stream",
          "name": "stdout",
          "text": [
            "black 5\n",
            "blue 4\n",
            "yellow 6\n",
            "red 3\n"
          ]
        }
      ]
    },
    {
      "cell_type": "markdown",
      "source": [
        "### 리스트를 각 원소별로 인덱스를 이용해서 탐색하시오."
      ],
      "metadata": {
        "id": "Qb2yqUFZ65iR"
      }
    },
    {
      "cell_type": "code",
      "source": [
        "nn = [100,200,300,400,500]"
      ],
      "metadata": {
        "id": "6WAgfx_c60I-"
      },
      "execution_count": 15,
      "outputs": []
    },
    {
      "cell_type": "code",
      "source": [
        "for n in nn:\n",
        "  print(n)"
      ],
      "metadata": {
        "colab": {
          "base_uri": "https://localhost:8080/"
        },
        "id": "8KOaxd7U6-qS",
        "outputId": "fbe8a80f-b1fd-4cc5-b049-a1b0b4390143"
      },
      "execution_count": 16,
      "outputs": [
        {
          "output_type": "stream",
          "name": "stdout",
          "text": [
            "100\n",
            "200\n",
            "300\n",
            "400\n",
            "500\n"
          ]
        }
      ]
    },
    {
      "cell_type": "code",
      "source": [
        ""
      ],
      "metadata": {
        "id": "Vf5yA9kb7B5E"
      },
      "execution_count": null,
      "outputs": []
    }
  ]
}