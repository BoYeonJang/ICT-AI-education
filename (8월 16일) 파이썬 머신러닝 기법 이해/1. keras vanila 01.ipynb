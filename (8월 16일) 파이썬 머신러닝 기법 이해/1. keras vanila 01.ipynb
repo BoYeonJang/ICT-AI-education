{
  "cells": [
    {
      "cell_type": "markdown",
      "metadata": {
        "id": "view-in-github",
        "colab_type": "text"
      },
      "source": [
        "<a href=\"https://colab.research.google.com/github/BoYeonJang/ICT-AI-education/blob/main/(8%EC%9B%94%2016%EC%9D%BC)%20%ED%8C%8C%EC%9D%B4%EC%8D%AC%20%EB%A8%B8%EC%8B%A0%EB%9F%AC%EB%8B%9D%20%EA%B8%B0%EB%B2%95%20%EC%9D%B4%ED%95%B4/1.%20keras%20vanila%2001.ipynb\" target=\"_parent\"><img src=\"https://colab.research.google.com/assets/colab-badge.svg\" alt=\"Open In Colab\"/></a>"
      ]
    },
    {
      "cell_type": "code",
      "execution_count": null,
      "metadata": {
        "colab": {
          "base_uri": "https://localhost:8080/",
          "height": 35
        },
        "id": "NuA4yBAQ7dgT",
        "outputId": "980c0604-6962-46b5-94b7-f476bdd3dd08"
      },
      "outputs": [
        {
          "output_type": "execute_result",
          "data": {
            "text/plain": [
              "'2.8.0'"
            ],
            "application/vnd.google.colaboratory.intrinsic+json": {
              "type": "string"
            }
          },
          "metadata": {},
          "execution_count": 1
        }
      ],
      "source": [
        "import keras\n",
        "keras.__version__"
      ]
    },
    {
      "cell_type": "code",
      "execution_count": null,
      "metadata": {
        "colab": {
          "base_uri": "https://localhost:8080/"
        },
        "id": "3y3OZDzH7dgV",
        "outputId": "7060b80a-300d-4fc4-9cb2-f527040689e1"
      },
      "outputs": [
        {
          "output_type": "stream",
          "name": "stdout",
          "text": [
            "Variable   Type      Data/Info\n",
            "------------------------------\n",
            "keras      module    <module 'keras' from '/us<...>kages/keras/__init__.py'>\n"
          ]
        }
      ],
      "source": [
        "%whos"
      ]
    },
    {
      "cell_type": "code",
      "execution_count": null,
      "metadata": {
        "id": "Ai6meiDe7dgW"
      },
      "outputs": [],
      "source": [
        "import numpy"
      ]
    },
    {
      "cell_type": "code",
      "execution_count": null,
      "metadata": {
        "colab": {
          "base_uri": "https://localhost:8080/"
        },
        "id": "DOpqfDir7dgX",
        "outputId": "2be310ec-00d0-4199-8208-ec6fb0399513"
      },
      "outputs": [
        {
          "output_type": "stream",
          "name": "stdout",
          "text": [
            "Variable   Type      Data/Info\n",
            "------------------------------\n",
            "keras      module    <module 'keras' from '/us<...>kages/keras/__init__.py'>\n",
            "numpy      module    <module 'numpy' from '/us<...>kages/numpy/__init__.py'>\n"
          ]
        }
      ],
      "source": [
        "%whos"
      ]
    },
    {
      "cell_type": "code",
      "source": [
        "x = numpy.array([0, 1, 2, 3, 4, 5, 6, 7])\n",
        "# y = x * 2 + 1\n",
        "y = numpy.array([1, 3, 5, 7, 9, 11, 13, 15])"
      ],
      "metadata": {
        "id": "mnqSVY8nAvjw"
      },
      "execution_count": null,
      "outputs": []
    },
    {
      "cell_type": "code",
      "source": [
        "%whos"
      ],
      "metadata": {
        "colab": {
          "base_uri": "https://localhost:8080/"
        },
        "id": "OEBN5kHoAwef",
        "outputId": "8910b3e2-0785-434d-f4ce-64b9881e035e"
      },
      "execution_count": null,
      "outputs": [
        {
          "output_type": "stream",
          "name": "stdout",
          "text": [
            "Variable   Type       Data/Info\n",
            "-------------------------------\n",
            "keras      module     <module 'keras' from '/us<...>kages/keras/__init__.py'>\n",
            "numpy      module     <module 'numpy' from '/us<...>kages/numpy/__init__.py'>\n",
            "x          ndarray    8: 8 elems, type `int64`, 64 bytes\n",
            "y          ndarray    8: 8 elems, type `int64`, 64 bytes\n"
          ]
        }
      ]
    },
    {
      "cell_type": "code",
      "execution_count": null,
      "metadata": {
        "colab": {
          "base_uri": "https://localhost:8080/"
        },
        "id": "FG2hbQkY7dgX",
        "outputId": "7148f600-8a6c-4403-9c0f-1813739fc8f3"
      },
      "outputs": [
        {
          "output_type": "stream",
          "name": "stdout",
          "text": [
            "Model: \"sequential\"\n",
            "_________________________________________________________________\n",
            " Layer (type)                Output Shape              Param #   \n",
            "=================================================================\n",
            " dense (Dense)               (None, 8)                 16        \n",
            "                                                                 \n",
            " dense_1 (Dense)             (None, 4)                 36        \n",
            "                                                                 \n",
            " dense_2 (Dense)             (None, 2)                 10        \n",
            "                                                                 \n",
            " dense_3 (Dense)             (None, 1)                 3         \n",
            "                                                                 \n",
            "=================================================================\n",
            "Total params: 65\n",
            "Trainable params: 65\n",
            "Non-trainable params: 0\n",
            "_________________________________________________________________\n"
          ]
        }
      ],
      "source": [
        "model = keras.models.Sequential()\n",
        "model.add(keras.layers.Dense(8, input_shape=(1,)))\n",
        "model.add(keras.layers.Dense(4))\n",
        "model.add(keras.layers.Dense(2))\n",
        "model.add(keras.layers.Dense(1))\n",
        "model.compile('SGD', 'mse')\n",
        "model.summary()"
      ]
    },
    {
      "cell_type": "code",
      "execution_count": null,
      "metadata": {
        "colab": {
          "base_uri": "https://localhost:8080/"
        },
        "id": "jLmnmFfW7dgX",
        "outputId": "6d96dc51-3764-49f9-f039-9d5dfab55a2b"
      },
      "outputs": [
        {
          "output_type": "stream",
          "name": "stdout",
          "text": [
            "Epoch 1/50\n",
            "1/1 [==============================] - 0s 13ms/step - loss: 4.8802\n",
            "Epoch 2/50\n",
            "1/1 [==============================] - 0s 17ms/step - loss: 17.1806\n",
            "Epoch 3/50\n",
            "1/1 [==============================] - 0s 14ms/step - loss: 0.2298\n",
            "Epoch 4/50\n",
            "1/1 [==============================] - 0s 10ms/step - loss: 0.7088\n",
            "Epoch 5/50\n",
            "1/1 [==============================] - 0s 7ms/step - loss: 1.6657\n",
            "Epoch 6/50\n",
            "1/1 [==============================] - 0s 8ms/step - loss: 5.7286\n",
            "Epoch 7/50\n",
            "1/1 [==============================] - 0s 7ms/step - loss: 5.0044\n",
            "Epoch 8/50\n",
            "1/1 [==============================] - 0s 7ms/step - loss: 16.2345\n",
            "Epoch 9/50\n",
            "1/1 [==============================] - 0s 8ms/step - loss: 0.0812\n",
            "Epoch 10/50\n",
            "1/1 [==============================] - 0s 8ms/step - loss: 0.2291\n",
            "Epoch 11/50\n",
            "1/1 [==============================] - 0s 7ms/step - loss: 0.5358\n",
            "Epoch 12/50\n",
            "1/1 [==============================] - 0s 7ms/step - loss: 1.6251\n",
            "Epoch 13/50\n",
            "1/1 [==============================] - 0s 7ms/step - loss: 2.6884\n",
            "Epoch 14/50\n",
            "1/1 [==============================] - 0s 9ms/step - loss: 8.4658\n",
            "Epoch 15/50\n",
            "1/1 [==============================] - 0s 14ms/step - loss: 2.7671\n",
            "Epoch 16/50\n",
            "1/1 [==============================] - 0s 10ms/step - loss: 8.4455\n",
            "Epoch 17/50\n",
            "1/1 [==============================] - 0s 14ms/step - loss: 2.4441\n",
            "Epoch 18/50\n",
            "1/1 [==============================] - 0s 11ms/step - loss: 7.2317\n",
            "Epoch 19/50\n",
            "1/1 [==============================] - 0s 8ms/step - loss: 2.6794\n",
            "Epoch 20/50\n",
            "1/1 [==============================] - 0s 18ms/step - loss: 7.7289\n",
            "Epoch 21/50\n",
            "1/1 [==============================] - 0s 13ms/step - loss: 2.2364\n",
            "Epoch 22/50\n",
            "1/1 [==============================] - 0s 17ms/step - loss: 6.2549\n",
            "Epoch 23/50\n",
            "1/1 [==============================] - 0s 16ms/step - loss: 2.5617\n",
            "Epoch 24/50\n",
            "1/1 [==============================] - 0s 11ms/step - loss: 7.0311\n",
            "Epoch 25/50\n",
            "1/1 [==============================] - 0s 8ms/step - loss: 2.1166\n",
            "Epoch 26/50\n",
            "1/1 [==============================] - 0s 10ms/step - loss: 5.6349\n",
            "Epoch 27/50\n",
            "1/1 [==============================] - 0s 8ms/step - loss: 2.3902\n",
            "Epoch 28/50\n",
            "1/1 [==============================] - 0s 8ms/step - loss: 6.2715\n",
            "Epoch 29/50\n",
            "1/1 [==============================] - 0s 9ms/step - loss: 2.0702\n",
            "Epoch 30/50\n",
            "1/1 [==============================] - 0s 19ms/step - loss: 5.2858\n",
            "Epoch 31/50\n",
            "1/1 [==============================] - 0s 11ms/step - loss: 2.2067\n",
            "Epoch 32/50\n",
            "1/1 [==============================] - 0s 10ms/step - loss: 5.5558\n",
            "Epoch 33/50\n",
            "1/1 [==============================] - 0s 11ms/step - loss: 2.0322\n",
            "Epoch 34/50\n",
            "1/1 [==============================] - 0s 22ms/step - loss: 5.0038\n",
            "Epoch 35/50\n",
            "1/1 [==============================] - 0s 9ms/step - loss: 2.0551\n",
            "Epoch 36/50\n",
            "1/1 [==============================] - 0s 10ms/step - loss: 4.9855\n",
            "Epoch 37/50\n",
            "1/1 [==============================] - 0s 16ms/step - loss: 1.9695\n",
            "Epoch 38/50\n",
            "1/1 [==============================] - 0s 12ms/step - loss: 4.6933\n",
            "Epoch 39/50\n",
            "1/1 [==============================] - 0s 9ms/step - loss: 1.9418\n",
            "Epoch 40/50\n",
            "1/1 [==============================] - 0s 10ms/step - loss: 4.5593\n",
            "Epoch 41/50\n",
            "1/1 [==============================] - 0s 9ms/step - loss: 1.8906\n",
            "Epoch 42/50\n",
            "1/1 [==============================] - 0s 13ms/step - loss: 4.3728\n",
            "Epoch 43/50\n",
            "1/1 [==============================] - 0s 12ms/step - loss: 1.8514\n",
            "Epoch 44/50\n",
            "1/1 [==============================] - 0s 10ms/step - loss: 4.2235\n",
            "Epoch 45/50\n",
            "1/1 [==============================] - 0s 10ms/step - loss: 1.8103\n",
            "Epoch 46/50\n",
            "1/1 [==============================] - 0s 11ms/step - loss: 4.0752\n",
            "Epoch 47/50\n",
            "1/1 [==============================] - 0s 16ms/step - loss: 1.7719\n",
            "Epoch 48/50\n",
            "1/1 [==============================] - 0s 10ms/step - loss: 3.9390\n",
            "Epoch 49/50\n",
            "1/1 [==============================] - 0s 9ms/step - loss: 1.7347\n",
            "Epoch 50/50\n",
            "1/1 [==============================] - 0s 9ms/step - loss: 3.8105\n"
          ]
        },
        {
          "output_type": "execute_result",
          "data": {
            "text/plain": [
              "<keras.callbacks.History at 0x7fddf8a6e650>"
            ]
          },
          "metadata": {},
          "execution_count": 12
        }
      ],
      "source": [
        "model.fit(x[:6], y[:6], epochs=50, verbose=1)"
      ]
    },
    {
      "cell_type": "code",
      "execution_count": null,
      "metadata": {
        "colab": {
          "base_uri": "https://localhost:8080/"
        },
        "id": "twb72FP67dgZ",
        "outputId": "a06a0b3e-fd58-434b-aead-92298ca038e3"
      },
      "outputs": [
        {
          "output_type": "stream",
          "name": "stdout",
          "text": [
            "Predictions: [15.261279 17.565891]\n"
          ]
        }
      ],
      "source": [
        "print('Predictions:', model.predict(x[6:]).flatten())"
      ]
    },
    {
      "cell_type": "code",
      "execution_count": null,
      "metadata": {
        "id": "aVj1ggkB7dgZ",
        "colab": {
          "base_uri": "https://localhost:8080/"
        },
        "outputId": "5e8cd18b-865c-4e37-a353-7c7657fabb58"
      },
      "outputs": [
        {
          "output_type": "stream",
          "name": "stdout",
          "text": [
            "Targets: [13 15]\n"
          ]
        }
      ],
      "source": [
        "print('Targets:', y[6:])"
      ]
    }
  ],
  "metadata": {
    "kernelspec": {
      "display_name": "Python 3",
      "language": "python",
      "name": "python3"
    },
    "language_info": {
      "codemirror_mode": {
        "name": "ipython",
        "version": 3
      },
      "file_extension": ".py",
      "mimetype": "text/x-python",
      "name": "python",
      "nbconvert_exporter": "python",
      "pygments_lexer": "ipython3",
      "version": "3.8.8"
    },
    "colab": {
      "name": "1.keras_vanila_01.ipynb",
      "provenance": [],
      "collapsed_sections": [],
      "include_colab_link": true
    }
  },
  "nbformat": 4,
  "nbformat_minor": 0
}